{
 "cells": [
  {
   "cell_type": "markdown",
   "id": "db1148b7-95c6-4ab8-8d30-cd30e9799847",
   "metadata": {},
   "source": [
    "## Python Mini-Project"
   ]
  },
  {
   "cell_type": "markdown",
   "id": "578a15c8-0226-4ec4-adf5-7f6595bee9f4",
   "metadata": {},
   "source": [
    "**1.** Bu Inge adalah seorang dosen informatika, saat ini beliau sedang melakukan survey kondisi sosial ekonomi masyarakat di kampung durian runtuh. Bu Inge mengambil sampel berupa 10 keluarga. Bantulah Bu Inge dalam melakukan survey nya\n",
    "\n",
    "> - Lakukan running dengan iterasi 10x untuk membaca input dari user yang berupa nama kepala keluarga dan penghasilan nya. \n",
    "> - Kemudian ditentukan status ekonomi-nya dengan beberapa kriteria.\n",
    "> - Diwajibkan membuat sebuah fungsi yang menerima parameter berupa nilai dan mengembalikan status ekonomi-nya. Contoh pemanggilan fungsi: status_ekonomi(10), hasil pemanggilan nya menghasilkan “makmur”.\n",
    "> - **“Penghasilan tidak mungkin negatif”**. Sehingga saat user memberikan input negatif maka. fungsi status_ekonomi harus memberikan exception. \n",
    "> - Masukkan data pada pandas dataframe dan simpan dengan format CSV. "
   ]
  },
  {
   "cell_type": "code",
   "execution_count": 2,
   "id": "bdbe06e9-fc16-4b2b-8d5c-45db2d193ec0",
   "metadata": {
    "tags": []
   },
   "outputs": [
    {
     "name": "stdin",
     "output_type": "stream",
     "text": [
      "Masukkan data untuk keluarga ke-1 (contoh: 'Adi Alkatiri | 6.7'):  Adi | 0.0\n",
      "Masukkan data untuk keluarga ke-2 (contoh: 'Adi Alkatiri | 6.7'):  Budi Beriman | 2.0\n",
      "Masukkan data untuk keluarga ke-3 (contoh: 'Adi Alkatiri | 6.7'):  Cyntia | 3.0\n",
      "Masukkan data untuk keluarga ke-4 (contoh: 'Adi Alkatiri | 6.7'):  Deni Alfarisi | 4.0\n",
      "Masukkan data untuk keluarga ke-5 (contoh: 'Adi Alkatiri | 6.7'):  Eko Fahrudin | 6.2\n",
      "Masukkan data untuk keluarga ke-6 (contoh: 'Adi Alkatiri | 6.7'):  Fani Veronica | 7.2\n",
      "Masukkan data untuk keluarga ke-7 (contoh: 'Adi Alkatiri | 6.7'):  Ghani Berwawasan | 89.0\n",
      "Masukkan data untuk keluarga ke-8 (contoh: 'Adi Alkatiri | 6.7'):  Hendra Setiawan | 19.0\n",
      "Masukkan data untuk keluarga ke-9 (contoh: 'Adi Alkatiri | 6.7'):  Indira | 5.0\n",
      "Masukkan data untuk keluarga ke-10 (contoh: 'Adi Alkatiri | 6.7'):  Joni Alkatiri | 100.0\n"
     ]
    },
    {
     "name": "stdout",
     "output_type": "stream",
     "text": [
      "\n",
      "Data survei lengkap:\n",
      "  Nama Kepala Keluarga  Penghasilan (juta) Status Ekonomi\n",
      "0                  Adi                 0.0         Rentan\n",
      "1         Budi Beriman                 2.0        Mandiri\n",
      "2               Cyntia                 3.0        Mandiri\n",
      "3        Deni Alfarisi                 4.0        Mandiri\n",
      "4         Eko Fahrudin                 6.2         Makmur\n",
      "5        Fani Veronica                 7.2         Makmur\n",
      "6     Ghani Berwawasan                89.0     Crazy Rich\n",
      "7      Hendra Setiawan                19.0     Crazy Rich\n",
      "8               Indira                 5.0         Makmur\n",
      "9        Joni Alkatiri               100.0     Crazy Rich\n"
     ]
    }
   ],
   "source": [
    "import pandas as pd\n",
    "\n",
    "# Fungsi untuk menentukan status ekonomi\n",
    "def status_ekonomi(penghasilan):\n",
    "    if penghasilan > 15:\n",
    "        return \"Crazy Rich\"\n",
    "    elif 5 <= penghasilan <= 15:\n",
    "        return \"Makmur\"\n",
    "    elif 2 <= penghasilan < 5:\n",
    "        return \"Mandiri\"\n",
    "    elif 1 <= penghasilan < 2:\n",
    "        return \"Butuh Pendampingan\"\n",
    "    else:\n",
    "        return \"Rentan\"\n",
    "\n",
    "# Membuat data frame kosong\n",
    "data_survey = pd.DataFrame(columns=['Nama Kepala Keluarga', 'Penghasilan (juta)', 'Status Ekonomi'])\n",
    "\n",
    "for i in range(10): # Membuat input sejumlah 10\n",
    "    input_data = input(f\"Masukkan data untuk keluarga ke-{i + 1} (contoh: 'Adi Alkatiri | 6.7'): \") # Format input data\n",
    "    nama, penghasilan_str = input_data.split('|')\n",
    "    nama = nama.strip()\n",
    "    try:\n",
    "        penghasilan = float(penghasilan_str)  \n",
    "        if penghasilan < 0:\n",
    "            raise ValueError(\"Penghasilan tidak boleh negatif\")\n",
    "        status = status_ekonomi(penghasilan)\n",
    "        data_survey.loc[i] = [nama, penghasilan, status]\n",
    "        if i == 9:\n",
    "            # Cetak semua data jika sudah terisi 10 kali\n",
    "            print(\"\\nData survei lengkap:\")\n",
    "            print(data_survey)\n",
    "    except ValueError as e:\n",
    "        print(f\"Error: {e}\")\n",
    "\n",
    "# Simpan data ke dalam file CSV\n",
    "data_survey.to_csv('data.csv', index=False)\n",
    "\n"
   ]
  },
  {
   "cell_type": "code",
   "execution_count": 6,
   "id": "742d3fcb-8e7f-42e0-8161-99d753c3b13c",
   "metadata": {
    "tags": []
   },
   "outputs": [
    {
     "data": {
      "text/plain": [
       "'Butuh Pendampingan'"
      ]
     },
     "execution_count": 6,
     "metadata": {},
     "output_type": "execute_result"
    }
   ],
   "source": [
    "status_ekonomi(1)"
   ]
  },
  {
   "cell_type": "markdown",
   "id": "690d6c44-6da4-45d3-8b87-21cc2bbca1c6",
   "metadata": {},
   "source": [
    "**2.**  Anda adalah seorang Dosen di kelas Dasar Pemrograman yang memiliki 40 mahasiswa.\n",
    "\n",
    "Ada 3 nilai berikut:\n",
    "> np.random.normal(mean, var, n)\n",
    ">\n",
    "> tugas ~ (85, 7, 40)\n",
    ">\n",
    "> UTS ~ (60, 15, 40)\n",
    ">\n",
    "> UAS ~ (75, 10, 40)\n",
    ">\n",
    "Simpan data dalam bentuk Data Frame.\n",
    ">\n",
    "Kemudian buat kolom baru (Nilai Akhir) yang dihitung dengan formula:\n",
    ">\n",
    "> tugas: 20%\n",
    ">\n",
    "> UTS: 40%\n",
    ">\n",
    "> UAS: 40%\n",
    "Buat kolom baru dan lakukan binning dengan kriteria berikut:\n",
    "> \n",
    "> A : 85-100\n",
    ">\n",
    "> A- : 80-85\n",
    ">\n",
    "> B+ : 75-80\n",
    ">\n",
    "> B : 70-75\n",
    ">\n",
    "> B- : 65-70\n",
    ">\n",
    "> C+ : 60-65\n",
    ">\n",
    "> C : 55-60\n",
    ">\n",
    "> C- : 50-55\n",
    ">\n",
    "> D : 20-50\n",
    ">\n",
    "> E : 0-20\n"
   ]
  },
  {
   "cell_type": "code",
   "execution_count": 2,
   "id": "7dcd91ec-246f-46cb-981e-bb917df0e56d",
   "metadata": {
    "tags": []
   },
   "outputs": [],
   "source": [
    "import pandas as pd\n",
    "import numpy as np"
   ]
  },
  {
   "cell_type": "code",
   "execution_count": 7,
   "id": "2e2264e1-2561-4aec-83cd-48595e335b0e",
   "metadata": {
    "tags": []
   },
   "outputs": [],
   "source": [
    "tgs = np.random.normal(85, 7, 40)\n",
    "ut = np.random.normal(60, 15, 40)\n",
    "us = np.random.normal(75, 10, 40)"
   ]
  },
  {
   "cell_type": "code",
   "execution_count": 4,
   "id": "b1a10b5e",
   "metadata": {
    "tags": []
   },
   "outputs": [
    {
     "data": {
      "text/html": [
       "<div>\n",
       "<style scoped>\n",
       "    .dataframe tbody tr th:only-of-type {\n",
       "        vertical-align: middle;\n",
       "    }\n",
       "\n",
       "    .dataframe tbody tr th {\n",
       "        vertical-align: top;\n",
       "    }\n",
       "\n",
       "    .dataframe thead th {\n",
       "        text-align: right;\n",
       "    }\n",
       "</style>\n",
       "<table border=\"1\" class=\"dataframe\">\n",
       "  <thead>\n",
       "    <tr style=\"text-align: right;\">\n",
       "      <th></th>\n",
       "      <th>tugas</th>\n",
       "      <th>uts</th>\n",
       "      <th>uas</th>\n",
       "    </tr>\n",
       "  </thead>\n",
       "  <tbody>\n",
       "    <tr>\n",
       "      <th>0</th>\n",
       "      <td>82.589770</td>\n",
       "      <td>55.460010</td>\n",
       "      <td>76.918546</td>\n",
       "    </tr>\n",
       "    <tr>\n",
       "      <th>1</th>\n",
       "      <td>84.553889</td>\n",
       "      <td>48.781483</td>\n",
       "      <td>75.072605</td>\n",
       "    </tr>\n",
       "    <tr>\n",
       "      <th>2</th>\n",
       "      <td>82.599815</td>\n",
       "      <td>42.609373</td>\n",
       "      <td>71.827925</td>\n",
       "    </tr>\n",
       "    <tr>\n",
       "      <th>3</th>\n",
       "      <td>73.985366</td>\n",
       "      <td>67.385236</td>\n",
       "      <td>81.567865</td>\n",
       "    </tr>\n",
       "    <tr>\n",
       "      <th>4</th>\n",
       "      <td>84.014291</td>\n",
       "      <td>56.484995</td>\n",
       "      <td>64.509718</td>\n",
       "    </tr>\n",
       "  </tbody>\n",
       "</table>\n",
       "</div>"
      ],
      "text/plain": [
       "       tugas        uts        uas\n",
       "0  82.589770  55.460010  76.918546\n",
       "1  84.553889  48.781483  75.072605\n",
       "2  82.599815  42.609373  71.827925\n",
       "3  73.985366  67.385236  81.567865\n",
       "4  84.014291  56.484995  64.509718"
      ]
     },
     "execution_count": 4,
     "metadata": {},
     "output_type": "execute_result"
    }
   ],
   "source": [
    "data_nilai = pd.DataFrame({'tugas': tgs, 'uts': ut, 'uas': us})\n",
    "data_nilai.head()"
   ]
  },
  {
   "cell_type": "code",
   "execution_count": 5,
   "id": "95ee3106-646d-4d79-834d-d07e7350be2f",
   "metadata": {
    "tags": []
   },
   "outputs": [
    {
     "data": {
      "text/html": [
       "<div>\n",
       "<style scoped>\n",
       "    .dataframe tbody tr th:only-of-type {\n",
       "        vertical-align: middle;\n",
       "    }\n",
       "\n",
       "    .dataframe tbody tr th {\n",
       "        vertical-align: top;\n",
       "    }\n",
       "\n",
       "    .dataframe thead th {\n",
       "        text-align: right;\n",
       "    }\n",
       "</style>\n",
       "<table border=\"1\" class=\"dataframe\">\n",
       "  <thead>\n",
       "    <tr style=\"text-align: right;\">\n",
       "      <th></th>\n",
       "      <th>tugas</th>\n",
       "      <th>uts</th>\n",
       "      <th>uas</th>\n",
       "      <th>nilai_akhir</th>\n",
       "    </tr>\n",
       "  </thead>\n",
       "  <tbody>\n",
       "    <tr>\n",
       "      <th>0</th>\n",
       "      <td>82.589770</td>\n",
       "      <td>55.460010</td>\n",
       "      <td>76.918546</td>\n",
       "      <td>69.469376</td>\n",
       "    </tr>\n",
       "    <tr>\n",
       "      <th>1</th>\n",
       "      <td>84.553889</td>\n",
       "      <td>48.781483</td>\n",
       "      <td>75.072605</td>\n",
       "      <td>66.452413</td>\n",
       "    </tr>\n",
       "    <tr>\n",
       "      <th>2</th>\n",
       "      <td>82.599815</td>\n",
       "      <td>42.609373</td>\n",
       "      <td>71.827925</td>\n",
       "      <td>62.294882</td>\n",
       "    </tr>\n",
       "    <tr>\n",
       "      <th>3</th>\n",
       "      <td>73.985366</td>\n",
       "      <td>67.385236</td>\n",
       "      <td>81.567865</td>\n",
       "      <td>74.378313</td>\n",
       "    </tr>\n",
       "    <tr>\n",
       "      <th>4</th>\n",
       "      <td>84.014291</td>\n",
       "      <td>56.484995</td>\n",
       "      <td>64.509718</td>\n",
       "      <td>65.200743</td>\n",
       "    </tr>\n",
       "  </tbody>\n",
       "</table>\n",
       "</div>"
      ],
      "text/plain": [
       "       tugas        uts        uas  nilai_akhir\n",
       "0  82.589770  55.460010  76.918546    69.469376\n",
       "1  84.553889  48.781483  75.072605    66.452413\n",
       "2  82.599815  42.609373  71.827925    62.294882\n",
       "3  73.985366  67.385236  81.567865    74.378313\n",
       "4  84.014291  56.484995  64.509718    65.200743"
      ]
     },
     "execution_count": 5,
     "metadata": {},
     "output_type": "execute_result"
    }
   ],
   "source": [
    "data_nilai['nilai_akhir'] = data_nilai['tugas']*0.2 + data_nilai['uts']*0.4 + data_nilai['uas']*0.4\n",
    "data_nilai.head()"
   ]
  },
  {
   "cell_type": "code",
   "execution_count": 6,
   "id": "2436f664-f187-407b-9e4b-47e5c95591dc",
   "metadata": {
    "tags": []
   },
   "outputs": [
    {
     "data": {
      "text/html": [
       "<div>\n",
       "<style scoped>\n",
       "    .dataframe tbody tr th:only-of-type {\n",
       "        vertical-align: middle;\n",
       "    }\n",
       "\n",
       "    .dataframe tbody tr th {\n",
       "        vertical-align: top;\n",
       "    }\n",
       "\n",
       "    .dataframe thead th {\n",
       "        text-align: right;\n",
       "    }\n",
       "</style>\n",
       "<table border=\"1\" class=\"dataframe\">\n",
       "  <thead>\n",
       "    <tr style=\"text-align: right;\">\n",
       "      <th></th>\n",
       "      <th>tugas</th>\n",
       "      <th>uts</th>\n",
       "      <th>uas</th>\n",
       "      <th>nilai_akhir</th>\n",
       "      <th>predikat</th>\n",
       "    </tr>\n",
       "  </thead>\n",
       "  <tbody>\n",
       "    <tr>\n",
       "      <th>0</th>\n",
       "      <td>82.589770</td>\n",
       "      <td>55.460010</td>\n",
       "      <td>76.918546</td>\n",
       "      <td>69.469376</td>\n",
       "      <td>B-</td>\n",
       "    </tr>\n",
       "    <tr>\n",
       "      <th>1</th>\n",
       "      <td>84.553889</td>\n",
       "      <td>48.781483</td>\n",
       "      <td>75.072605</td>\n",
       "      <td>66.452413</td>\n",
       "      <td>B-</td>\n",
       "    </tr>\n",
       "    <tr>\n",
       "      <th>2</th>\n",
       "      <td>82.599815</td>\n",
       "      <td>42.609373</td>\n",
       "      <td>71.827925</td>\n",
       "      <td>62.294882</td>\n",
       "      <td>C+</td>\n",
       "    </tr>\n",
       "    <tr>\n",
       "      <th>3</th>\n",
       "      <td>73.985366</td>\n",
       "      <td>67.385236</td>\n",
       "      <td>81.567865</td>\n",
       "      <td>74.378313</td>\n",
       "      <td>B</td>\n",
       "    </tr>\n",
       "    <tr>\n",
       "      <th>4</th>\n",
       "      <td>84.014291</td>\n",
       "      <td>56.484995</td>\n",
       "      <td>64.509718</td>\n",
       "      <td>65.200743</td>\n",
       "      <td>B-</td>\n",
       "    </tr>\n",
       "  </tbody>\n",
       "</table>\n",
       "</div>"
      ],
      "text/plain": [
       "       tugas        uts        uas  nilai_akhir predikat\n",
       "0  82.589770  55.460010  76.918546    69.469376       B-\n",
       "1  84.553889  48.781483  75.072605    66.452413       B-\n",
       "2  82.599815  42.609373  71.827925    62.294882       C+\n",
       "3  73.985366  67.385236  81.567865    74.378313        B\n",
       "4  84.014291  56.484995  64.509718    65.200743       B-"
      ]
     },
     "execution_count": 6,
     "metadata": {},
     "output_type": "execute_result"
    }
   ],
   "source": [
    "batas_bin = [0, 20, 50, 55, 60, 65, 70, 75, 80, 85, 100]\n",
    "kategori = ['E', 'D', 'C-', 'C', 'C+', 'B-', 'B', 'B+', 'A-', 'A']\n",
    "\n",
    "data_nilai['predikat'] = pd.cut(data_nilai['nilai_akhir'], bins = batas_bin, labels = kategori)\n",
    "data_nilai.head()"
   ]
  }
 ],
 "metadata": {
  "kernelspec": {
   "display_name": "Python 3 (ipykernel)",
   "language": "python",
   "name": "python3"
  },
  "language_info": {
   "codemirror_mode": {
    "name": "ipython",
    "version": 3
   },
   "file_extension": ".py",
   "mimetype": "text/x-python",
   "name": "python",
   "nbconvert_exporter": "python",
   "pygments_lexer": "ipython3",
   "version": "3.11.4"
  }
 },
 "nbformat": 4,
 "nbformat_minor": 5
}
